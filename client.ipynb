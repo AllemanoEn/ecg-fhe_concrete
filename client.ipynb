{
 "cells": [
  {
   "cell_type": "code",
   "execution_count": 1,
   "metadata": {},
   "outputs": [],
   "source": [
    "# This file represents client side of the FHE scheme\n",
    "\n",
    "### Author: Enzo Allemano\n",
    "\n",
    "from concrete import fhe\n",
    "\n",
    "@fhe.compiler({\"x\": \"encrypted\"})\n",
    "def function(x):\n",
    "    return x + 42\n",
    "\n",
    "inputset = range(10)\n",
    "circuit = function.compile(inputset)\n",
    "\n",
    "# Save everyting the server needs \n",
    "circuit.server.save(\"server.zip\")"
   ]
  }
 ],
 "metadata": {
  "kernelspec": {
   "display_name": "TB-venv",
   "language": "python",
   "name": "python3"
  },
  "language_info": {
   "codemirror_mode": {
    "name": "ipython",
    "version": 3
   },
   "file_extension": ".py",
   "mimetype": "text/x-python",
   "name": "python",
   "nbconvert_exporter": "python",
   "pygments_lexer": "ipython3",
   "version": "3.10.10"
  },
  "orig_nbformat": 4
 },
 "nbformat": 4,
 "nbformat_minor": 2
}
