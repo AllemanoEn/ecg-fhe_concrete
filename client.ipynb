{
 "cells": [
  {
   "cell_type": "code",
   "execution_count": 2,
   "metadata": {},
   "outputs": [],
   "source": [
    "# This file represents client side of the FHE scheme\n",
    "\n",
    "### Author: Enzo Allemano\n",
    "\n",
    "from concrete import fhe"
   ]
  },
  {
   "attachments": {},
   "cell_type": "markdown",
   "metadata": {},
   "source": [
    "# step 3"
   ]
  },
  {
   "cell_type": "code",
   "execution_count": 3,
   "metadata": {},
   "outputs": [
    {
     "name": "stdout",
     "output_type": "stream",
     "text": [
      "b'{\"bootstrapKeys\":[],\"functionName\":\"main\",\"inputs\":[{\"encryption\":{\"encoding\":{\"isSigned\":false,\"precision\":6},\"secretKeyID\":0,\"variance\":3.9414694521645414e-07},\"shape\":{\"dimensions\":[],\"sign\":false,\"size\":0,\"width\":6}}],\"keyswitchKeys\":[],\"outputs\":[{\"encryption\":{\"encoding\":{\"isSigned\":false,\"precision\":6},\"secretKeyID\":0,\"variance\":3.9414694521645414e-07},\"shape\":{\"dimensions\":[],\"sign\":false,\"size\":0,\"width\":6}}],\"packingKeyswitchKeys\":[],\"secretKeys\":[{\"dimension\":512}]}'\n"
     ]
    }
   ],
   "source": [
    "# Read the serialized ClientSpecs from a stored var\n",
    "serialized_client_specs = b''\n",
    "%store -r serialized_client_specs \n",
    "\n",
    "print(serialized_client_specs)\n",
    "\n",
    "# After getting the serialized ClientSpecs from a server, you can create the client object:\n",
    "client_specs = fhe.ClientSpecs.deserialize(serialized_client_specs)\n",
    "client = fhe.Client(client_specs)"
   ]
  },
  {
   "attachments": {},
   "cell_type": "markdown",
   "metadata": {},
   "source": [
    "# step 4"
   ]
  },
  {
   "cell_type": "code",
   "execution_count": 12,
   "metadata": {},
   "outputs": [
    {
     "name": "stdout",
     "output_type": "stream",
     "text": [
      "b'\\x00\\x00\\x00\\x00\\x00\\x00\\x00\\x00\\x00\\x00\\x00\\x00\\x00\\x00\\x00\\x00\\x00\\x00\\x00\\x00\\x00\\x00\\x00\\x00'\n",
      "Stored 'serialized_evaluation_keys' (bytes)\n"
     ]
    }
   ],
   "source": [
    "# Keys generation\n",
    "client.keys.generate(seed=424)\n",
    "\n",
    "# server requires evaluation keys linked to the encryption keys, so we serialize them\n",
    "serialized_evaluation_keys: bytes = client.evaluation_keys.serialize()\n",
    "\n",
    "# print(serialized_evaluation_keys)\n",
    "\n",
    "# send the serialized evaluation keys to the server\n",
    "%store serialized_evaluation_keys"
   ]
  },
  {
   "attachments": {},
   "cell_type": "markdown",
   "metadata": {},
   "source": [
    "# step 5"
   ]
  },
  {
   "cell_type": "code",
   "execution_count": 8,
   "metadata": {},
   "outputs": [
    {
     "name": "stdout",
     "output_type": "stream",
     "text": [
      "Stored 'serialized_args' (bytes)\n"
     ]
    }
   ],
   "source": [
    "# encrypt your inputs and request the server to perform the computation\n",
    "serialized_args: bytes = client.encrypt(7).serialize()\n",
    "\n",
    "# send the encrypted inputs and the evaluation keys to the server\n",
    "%store serialized_args"
   ]
  },
  {
   "attachments": {},
   "cell_type": "markdown",
   "metadata": {},
   "source": [
    "# step 8"
   ]
  },
  {
   "cell_type": "code",
   "execution_count": 9,
   "metadata": {},
   "outputs": [],
   "source": [
    "# read the performed computation from the server\n",
    "serialized_public_result = b''\n",
    "%store -r serialized_public_result\n",
    "\n",
    "deserialized_public_result = client.specs.deserialize_public_result(serialized_public_result)\n",
    "\n",
    "# decrypt the result\n",
    "result = client.decrypt(deserialized_public_result)\n",
    "assert result == 49"
   ]
  }
 ],
 "metadata": {
  "kernelspec": {
   "display_name": "TB-venv",
   "language": "python",
   "name": "python3"
  },
  "language_info": {
   "codemirror_mode": {
    "name": "ipython",
    "version": 3
   },
   "file_extension": ".py",
   "mimetype": "text/x-python",
   "name": "python",
   "nbconvert_exporter": "python",
   "pygments_lexer": "ipython3",
   "version": "3.10.10"
  },
  "orig_nbformat": 4
 },
 "nbformat": 4,
 "nbformat_minor": 2
}
