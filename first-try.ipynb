{
 "cells": [
  {
   "cell_type": "code",
   "execution_count": 2,
   "metadata": {},
   "outputs": [
    {
     "name": "stdout",
     "output_type": "stream",
     "text": [
      "<concrete.compiler.public_result.PublicResult object at 0x7ff7e87b69e0>\n",
      "4 + 4 = 8 = 8\n"
     ]
    }
   ],
   "source": [
    "from concrete import fhe\n",
    "\n",
    "def add(x, y):\n",
    "    return x + y\n",
    "\n",
    "compiler = fhe.Compiler(add, {\"x\": \"encrypted\", \"y\": \"clear\"})\n",
    "\n",
    "inputset = [(2, 3), (0, 0), (8, 6), (7, 7), (7, 1)]\n",
    "circuit = compiler.compile(inputset)\n",
    "\n",
    "x = 4\n",
    "y = 4\n",
    "\n",
    "clear_evaluation = add(x, y)\n",
    "\n",
    "encrypted_res = circuit.run(circuit.encrypt(x,y))\n",
    "\n",
    "print(encrypted_res)\n",
    "\n",
    "homomorphic_evaluation = circuit.decrypt(encrypted_res)\n",
    "\n",
    "print(x, \"+\", y, \"=\", clear_evaluation, \"=\", homomorphic_evaluation)"
   ]
  }
 ],
 "metadata": {
  "kernelspec": {
   "display_name": "TB-venv",
   "language": "python",
   "name": "python3"
  },
  "language_info": {
   "codemirror_mode": {
    "name": "ipython",
    "version": 3
   },
   "file_extension": ".py",
   "mimetype": "text/x-python",
   "name": "python",
   "nbconvert_exporter": "python",
   "pygments_lexer": "ipython3",
   "version": "3.10.10"
  },
  "orig_nbformat": 4
 },
 "nbformat": 4,
 "nbformat_minor": 2
}
