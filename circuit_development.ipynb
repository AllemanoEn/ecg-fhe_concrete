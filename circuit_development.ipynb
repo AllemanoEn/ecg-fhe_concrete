{
 "cells": [
  {
   "attachments": {},
   "cell_type": "markdown",
   "metadata": {},
   "source": [
    "# Step 1"
   ]
  },
  {
   "cell_type": "code",
   "execution_count": 3,
   "metadata": {},
   "outputs": [
    {
     "ename": "ImportError",
     "evalue": "cannot import name 'fhe' from 'concrete' (/home/jetcandy/Documents/TB/TB-venv/lib/python3.11/site-packages/concrete/__init__.py)",
     "output_type": "error",
     "traceback": [
      "\u001b[0;31m---------------------------------------------------------------------------\u001b[0m",
      "\u001b[0;31mImportError\u001b[0m                               Traceback (most recent call last)",
      "Cell \u001b[0;32mIn[3], line 1\u001b[0m\n\u001b[0;32m----> 1\u001b[0m \u001b[39mfrom\u001b[39;00m \u001b[39mconcrete\u001b[39;00m \u001b[39mimport\u001b[39;00m fhe\n\u001b[1;32m      3\u001b[0m rpeaks_x_enzo \u001b[39m=\u001b[39m []\n\u001b[1;32m      4\u001b[0m get_ipython()\u001b[39m.\u001b[39mrun_line_magic(\u001b[39m'\u001b[39m\u001b[39mstore\u001b[39m\u001b[39m'\u001b[39m, \u001b[39m'\u001b[39m\u001b[39m-r rpeaks_x_enzo\u001b[39m\u001b[39m'\u001b[39m)\n",
      "\u001b[0;31mImportError\u001b[0m: cannot import name 'fhe' from 'concrete' (/home/jetcandy/Documents/TB/TB-venv/lib/python3.11/site-packages/concrete/__init__.py)"
     ]
    }
   ],
   "source": [
    "from concrete import fhe\n",
    "\n",
    "rpeaks_x_enzo = []\n",
    "%store -r rpeaks_x_enzo\n",
    "\n",
    "\n",
    "@fhe.compiler({\"x\": \"clear\"})\n",
    "def function(x):\n",
    "    return x+11 if x else x+22\n",
    "\n",
    "inputset = range(10)\n",
    "circuit = function.compile(inputset)\n",
    "\n",
    "# Save everyting the server needs \n",
    "circuit.server.save(\"server.zip\")"
   ]
  },
  {
   "cell_type": "code",
   "execution_count": 3,
   "metadata": {},
   "outputs": [
    {
     "name": "stdout",
     "output_type": "stream",
     "text": [
      "[1 1 1 0]\n"
     ]
    }
   ],
   "source": [
    "import numpy as np\n",
    "from concrete import fhe\n",
    "\n",
    "test_fake_rri = [1, 9, 14, 24]\n",
    "\n",
    "len_rri = len(test_fake_rri)\n",
    "\n",
    "@fhe.compiler({\"x\": \"encrypted\"})\n",
    "def test(x):\n",
    "    for i in range(len_rri-1):\n",
    "        x[i] = x[i+1]-x[i]\n",
    "    peaks_mean = (sum(x) / len_rri).astype(np.int64)\n",
    "\n",
    "    for i in range(len_rri):\n",
    "        x[i] = x[i] < peaks_mean\n",
    "    \n",
    "    return x\n",
    "    \n",
    "\n",
    "inputset = [[1, 9, 11, 34], [0, 1, 3, 8], [9, 29, 30, 41]]\n",
    "circuit = test.compile(inputset)\n",
    "\n",
    "# clear_eval = test(test_fake_rri)\n",
    "# print(clear_eval)\n",
    "# print(test_fake_rri)\n",
    "\n",
    "\n",
    "homomorphic_evaluation = circuit.encrypt_run_decrypt(test_fake_rri)\n",
    "print(homomorphic_evaluation)"
   ]
  },
  {
   "cell_type": "code",
   "execution_count": 28,
   "metadata": {},
   "outputs": [
    {
     "name": "stdout",
     "output_type": "stream",
     "text": [
      "11.75\n",
      "[8, 5, 10, 24]\n"
     ]
    },
    {
     "data": {
      "text/plain": [
       "[True, True, True, False]"
      ]
     },
     "execution_count": 28,
     "metadata": {},
     "output_type": "execute_result"
    }
   ],
   "source": [
    "test_fake_rri = [1, 9, 14, 24]\n",
    "\n",
    "len_rri = len(test_fake_rri)\n",
    "\n",
    "def test(x):\n",
    "    for i in range(len_rri-1):\n",
    "        x[i] = x[i+1]-x[i]\n",
    "    peaks_mean = sum(x) / len_rri\n",
    "\n",
    "    print(peaks_mean)\n",
    "    print(x)\n",
    "\n",
    "    for i in range(len_rri):\n",
    "        x[i] = x[i] < peaks_mean\n",
    "    return x\n",
    "    \n",
    "\n",
    "test(test_fake_rri)"
   ]
  },
  {
   "cell_type": "code",
   "execution_count": 36,
   "metadata": {},
   "outputs": [
    {
     "name": "stdout",
     "output_type": "stream",
     "text": [
      "53.639799816033474\n"
     ]
    },
    {
     "data": {
      "text/plain": [
       "53"
      ]
     },
     "execution_count": 36,
     "metadata": {},
     "output_type": "execute_result"
    }
   ],
   "source": [
    "import numpy as np\n",
    "x= 90\n",
    "print(60 * np.sin(x))\n",
    "(60 * np.sin(x)).astype(np.int64)"
   ]
  }
 ],
 "metadata": {
  "kernelspec": {
   "display_name": "TB-venv",
   "language": "python",
   "name": "python3"
  },
  "language_info": {
   "codemirror_mode": {
    "name": "ipython",
    "version": 3
   },
   "file_extension": ".py",
   "mimetype": "text/x-python",
   "name": "python",
   "nbconvert_exporter": "python",
   "pygments_lexer": "ipython3",
   "version": "3.11.3"
  },
  "orig_nbformat": 4
 },
 "nbformat": 4,
 "nbformat_minor": 2
}
