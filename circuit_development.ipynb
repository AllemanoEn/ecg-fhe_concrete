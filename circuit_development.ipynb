{
 "cells": [
  {
   "attachments": {},
   "cell_type": "markdown",
   "metadata": {},
   "source": [
    "# Step 1"
   ]
  },
  {
   "cell_type": "code",
   "execution_count": 5,
   "metadata": {},
   "outputs": [
    {
     "name": "stdout",
     "output_type": "stream",
     "text": [
      "[272, 527, 695, 916, 1142, 1334, 1563, 1816, 2072, 2329, 2592, 2850, 2968, 3235, 3495, 3753, 4009, 4266, 4525, 4781, 5039, 5301, 5557, 5813, 6073, 6332, 6590, 6847, 7108, 7366, 7623, 7884, 8141, 8399, 8657]\n"
     ]
    }
   ],
   "source": [
    "from concrete import fhe\n",
    "\n",
    "rpeaks_x_enzo = []\n",
    "%store -r rpeaks_x_enzo\n",
    "\n",
    "\n",
    "@fhe.compiler({\"x\": \"encrypted\"})\n",
    "def function(x):\n",
    "    return x + 42\n",
    "\n",
    "inputset = range(10)\n",
    "circuit = function.compile(inputset)\n",
    "\n",
    "# Save everyting the server needs \n",
    "circuit.server.save(\"server.zip\")"
   ]
  },
  {
   "cell_type": "code",
   "execution_count": 48,
   "metadata": {},
   "outputs": [
    {
     "name": "stdout",
     "output_type": "stream",
     "text": [
      "[2, 3, 4, 5]\n",
      "[2, 3, 4, 5]\n",
      "[2, 3, 4, 5] = [3 4 5 6]\n"
     ]
    }
   ],
   "source": [
    "test_fake_rri = [1, 2, 3, 4]\n",
    "\n",
    "len_rri = len(test_fake_rri)\n",
    "\n",
    "@fhe.compiler({\"x\": \"encrypted\"})\n",
    "def test(x):  \n",
    "    # increment by 1 value in the array\n",
    "    for i in range(len_rri):\n",
    "        x[i] = x[i] + 1\n",
    "    return x\n",
    "\n",
    "inputset = [[1, 9, 5, 6], [0, 1, 3, 1], [9, 2, 7, 4]]\n",
    "circuit = test.compile(inputset)\n",
    "\n",
    "clear_eval = test(test_fake_rri)\n",
    "print(clear_eval)\n",
    "print(test_fake_rri)\n",
    "\n",
    "homomorphic_evaluation = circuit.encrypt_run_decrypt(test_fake_rri)\n",
    "print(clear_eval, \"=\", homomorphic_evaluation)"
   ]
  },
  {
   "cell_type": "code",
   "execution_count": 46,
   "metadata": {},
   "outputs": [
    {
     "name": "stdout",
     "output_type": "stream",
     "text": [
      "[2, 3, 4, 5]\n"
     ]
    }
   ],
   "source": [
    "def adding(my_array):\n",
    "    new_array = []\n",
    "    for i in range(len_rri):\n",
    "        new_array.append(my_array[i] + 1)\n",
    "    return new_array\n",
    "\n",
    "print(adding(test_fake_rri))"
   ]
  }
 ],
 "metadata": {
  "kernelspec": {
   "display_name": "TB-venv",
   "language": "python",
   "name": "python3"
  },
  "language_info": {
   "codemirror_mode": {
    "name": "ipython",
    "version": 3
   },
   "file_extension": ".py",
   "mimetype": "text/x-python",
   "name": "python",
   "nbconvert_exporter": "python",
   "pygments_lexer": "ipython3",
   "version": "3.10.10"
  },
  "orig_nbformat": 4
 },
 "nbformat": 4,
 "nbformat_minor": 2
}
