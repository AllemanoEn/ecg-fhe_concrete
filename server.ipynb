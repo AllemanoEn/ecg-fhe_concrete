{
 "cells": [
  {
   "attachments": {},
   "cell_type": "markdown",
   "metadata": {},
   "source": [
    "# step 2"
   ]
  },
  {
   "cell_type": "code",
   "execution_count": 7,
   "metadata": {},
   "outputs": [],
   "source": [
    "# This file represents server side of the FHE scheme\n",
    "\n",
    "### Author: Enzo Allemano\n",
    "\n",
    "from concrete import fhe"
   ]
  },
  {
   "cell_type": "code",
   "execution_count": 8,
   "metadata": {},
   "outputs": [
    {
     "name": "stdout",
     "output_type": "stream",
     "text": [
      "Stored 'serialized_client_specs' (bytes)\n"
     ]
    }
   ],
   "source": [
    "server = fhe.Server.load(\"server.zip\")\n",
    "\n",
    "# Need to wait for requests from clients. The first likely request is for ClientSpecs.\n",
    "# Clients need ClientSpecs to generate keys and request computation\n",
    "serialized_client_specs: str = server.client_specs.serialize()\n",
    "\n",
    "# store serialized_client_specs so we can read it from the client\n",
    "%store -z\n",
    "%store serialized_client_specs"
   ]
  },
  {
   "attachments": {},
   "cell_type": "markdown",
   "metadata": {},
   "source": [
    "# step 6"
   ]
  },
  {
   "cell_type": "code",
   "execution_count": 9,
   "metadata": {},
   "outputs": [],
   "source": [
    "# Read serialized_evaluation_keys and serialized_args from client\n",
    "serialized_evaluation_keys = b''\n",
    "%store -r serialized_evaluation_keys\n",
    "\n",
    "serialized_args = b''\n",
    "%store -r serialized_args\n",
    "\n",
    "deserialized_evaluation_keys = fhe.EvaluationKeys.deserialize(serialized_evaluation_keys)\n",
    "deserialized_args  = server.client_specs.deserialize_public_args(serialized_args)"
   ]
  },
  {
   "attachments": {},
   "cell_type": "markdown",
   "metadata": {},
   "source": [
    "# step 7"
   ]
  },
  {
   "cell_type": "code",
   "execution_count": 10,
   "metadata": {},
   "outputs": [
    {
     "name": "stdout",
     "output_type": "stream",
     "text": [
      "Stored 'serialized_public_result' (bytes)\n"
     ]
    }
   ],
   "source": [
    "# perform computation\n",
    "public_result = server.run(deserialized_args, deserialized_evaluation_keys)\n",
    "serialized_public_result: bytes = public_result.serialize()\n",
    "\n",
    "# store serialized_public_result so we can read it from the client\n",
    "%store serialized_public_result"
   ]
  }
 ],
 "metadata": {
  "kernelspec": {
   "display_name": "TB-venv",
   "language": "python",
   "name": "python3"
  },
  "language_info": {
   "codemirror_mode": {
    "name": "ipython",
    "version": 3
   },
   "file_extension": ".py",
   "mimetype": "text/x-python",
   "name": "python",
   "nbconvert_exporter": "python",
   "pygments_lexer": "ipython3",
   "version": "3.10.10"
  },
  "orig_nbformat": 4
 },
 "nbformat": 4,
 "nbformat_minor": 2
}
